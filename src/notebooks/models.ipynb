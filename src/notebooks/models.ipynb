{
 "cells": [
  {
   "cell_type": "markdown",
   "metadata": {},
   "source": [
    "# ***We will train 3 types of Models***\n",
    "\n",
    "- Statistical ML Model\n",
    "- Decision Tree Ensemble type Model\n",
    "- Neural Network Model"
   ]
  },
  {
   "cell_type": "markdown",
   "metadata": {},
   "source": [
    "## Statistical Model"
   ]
  },
  {
   "cell_type": "code",
   "execution_count": 1,
   "metadata": {},
   "outputs": [
    {
     "name": "stdout",
     "output_type": "stream",
     "text": [
      "Precision: 0.78\n",
      "Recall: 0.41\n",
      "F1 Score: 0.54\n",
      "              precision    recall  f1-score   support\n",
      "\n",
      "           0       0.90      0.98      0.94       250\n",
      "           1       0.78      0.41      0.54        44\n",
      "\n",
      "    accuracy                           0.89       294\n",
      "   macro avg       0.84      0.69      0.74       294\n",
      "weighted avg       0.89      0.89      0.88       294\n",
      "\n"
     ]
    },
    {
     "data": {
      "image/png": "[encoded data removed]",
      "text/plain": [
       "<Figure size 640x480 with 2 Axes>"
      ]
     },
     "metadata": {},
     "output_type": "display_data"
    },
    {
     "name": "stdout",
     "output_type": "stream",
     "text": [
      "Training Score: 0.90\n",
      "Validation Score: 0.89\n",
      "The model generalizes well.\n"
     ]
    }
   ],
   "source": [
    "import pandas as pd\n",
    "import numpy as np\n",
    "from sklearn.model_selection import train_test_split, GridSearchCV\n",
    "from sklearn.linear_model import LogisticRegression\n",
    "from sklearn.metrics import precision_score, recall_score, f1_score, classification_report, confusion_matrix\n",
    "import matplotlib.pyplot as plt\n",
    "import seaborn as sns\n",
    "\n",
    "# Load the preprocessed data\n",
    "train_df = pd.read_csv('../data/train_data.csv')\n",
    "test_df = pd.read_csv('../data/test_data.csv')\n",
    "cv_data = pd.read_csv('../data/cv_data.csv')\n",
    "\n",
    "# Combine train and cv data for training\n",
    "train_df = pd.concat([train_df, cv_data, test_df], axis=0)\n",
    "\n",
    "# Specify the target and features\n",
    "target = 'Attrition'  \n",
    "features = train_df.columns.drop(target)\n",
    "\n",
    "# Split the data into features and target\n",
    "X = train_df[features]\n",
    "y = train_df[target]\n",
    "# print(y)\n",
    "y = np.where(y == 'Yes', 1, 0)\n",
    "# print(y)\n",
    "\n",
    "\n",
    "# Split the data into training and validation sets\n",
    "X_train, X_val, y_train, y_val = train_test_split(X, y, test_size=0.2, random_state=42)\n",
    "\n",
    "# Initialize the logistic regression model\n",
    "model = LogisticRegression(max_iter=1000)\n",
    "\n",
    "# Train the model\n",
    "model.fit(X_train, y_train)\n",
    "\n",
    "# Predict on the validation set\n",
    "y_pred = model.predict(X_val)\n",
    "\n",
    "# Evaluate the model\n",
    "precision = precision_score(y_val, y_pred)\n",
    "recall = recall_score(y_val, y_pred)\n",
    "f1 = f1_score(y_val, y_pred)\n",
    "\n",
    "print(f'Precision: {precision:.2f}')\n",
    "print(f'Recall: {recall:.2f}')\n",
    "print(f'F1 Score: {f1:.2f}')\n",
    "\n",
    "# Detailed classification report\n",
    "print(classification_report(y_val, y_pred))\n",
    "\n",
    "# Confusion matrix\n",
    "conf_matrix = confusion_matrix(y_val, y_pred)\n",
    "sns.heatmap(conf_matrix, annot=True, fmt='d', cmap='Blues')\n",
    "plt.xlabel('Predicted')\n",
    "plt.ylabel('Actual')\n",
    "plt.title('Confusion Matrix')\n",
    "plt.show()\n",
    "\n",
    "# Check for generalization and bias\n",
    "train_score = model.score(X_train, y_train)\n",
    "val_score = model.score(X_val, y_val)\n",
    "\n",
    "print(f'Training Score: {train_score:.2f}')\n",
    "print(f'Validation Score: {val_score:.2f}')\n",
    "\n",
    "if abs(train_score - val_score) < 0.05:\n",
    "    print(\"The model generalizes well.\")\n",
    "else:\n",
    "    print(\"The model may be overfitting or underfitting\")"
   ]
  },
  {
   "cell_type": "code",
   "execution_count": 2,
   "metadata": {},
   "outputs": [
    {
     "name": "stdout",
     "output_type": "stream",
     "text": [
      "Fitting 5 folds for each of 324 candidates, totalling 1620 fits\n"
     ]
    },
    {
     "name": "stderr",
     "output_type": "stream",
     "text": [
      "c:\\Users\\debop\\Desktop\\Data Science\\IBM Attrition Predictor\\venv\\Lib\\site-packages\\xgboost\\core.py:158: UserWarning: [19:41:38] WARNING: C:\\buildkite-agent\\builds\\buildkite-windows-cpu-autoscaling-group-i-0015a694724fa8361-1\\xgboost\\xgboost-ci-windows\\src\\learner.cc:740: \n",
      "Parameters: { \"use_label_encoder\" } are not used.\n",
      "\n",
      "  warnings.warn(smsg, UserWarning)\n"
     ]
    },
    {
     "name": "stdout",
     "output_type": "stream",
     "text": [
      "Best Hyperparameters: {'colsample_bytree': 1.0, 'learning_rate': 0.2, 'max_depth': 15, 'n_estimators': 200, 'subsample': 0.8}\n"
     ]
    },
    {
     "name": "stderr",
     "output_type": "stream",
     "text": [
      "c:\\Users\\debop\\Desktop\\Data Science\\IBM Attrition Predictor\\venv\\Lib\\site-packages\\xgboost\\core.py:158: UserWarning: [19:41:38] WARNING: C:\\buildkite-agent\\builds\\buildkite-windows-cpu-autoscaling-group-i-0015a694724fa8361-1\\xgboost\\xgboost-ci-windows\\src\\learner.cc:740: \n",
      "Parameters: { \"use_label_encoder\" } are not used.\n",
      "\n",
      "  warnings.warn(smsg, UserWarning)\n"
     ]
    },
    {
     "name": "stdout",
     "output_type": "stream",
     "text": [
      "Validation Precision: 0.71\n",
      "Validation Recall: 0.44\n",
      "Validation F1 Score: 0.55\n",
      "              precision    recall  f1-score   support\n",
      "\n",
      "           0       0.90      0.96      0.93       284\n",
      "           1       0.71      0.44      0.55        54\n",
      "\n",
      "    accuracy                           0.88       338\n",
      "   macro avg       0.80      0.70      0.74       338\n",
      "weighted avg       0.87      0.88      0.87       338\n",
      "\n"
     ]
    },
    {
     "data": {
      "image/png": "[encoded data removed]",
      "text/plain": [
       "<Figure size 640x480 with 2 Axes>"
      ]
     },
     "metadata": {},
     "output_type": "display_data"
    },
    {
     "name": "stdout",
     "output_type": "stream",
     "text": [
      "Training Score: 1.00\n",
      "Validation Score: 0.88\n",
      "The model may be overfitting or underfitting.\n",
      "Index(['Age', 'Attrition', 'DailyRate', 'DistanceFromHome', 'Education',\n",
      "       'EnvironmentSatisfaction', 'HourlyRate', 'JobInvolvement', 'JobLevel',\n",
      "       'JobSatisfaction', 'MonthlyIncome', 'MonthlyRate', 'NumCompaniesWorked',\n",
      "       'PercentSalaryHike', 'PerformanceRating', 'RelationshipSatisfaction',\n",
      "       'StandardHours', 'StockOptionLevel', 'TotalWorkingYears',\n",
      "       'TrainingTimesLastYear', 'WorkLifeBalance', 'YearsAtCompany',\n",
      "       'YearsInCurrentRole', 'YearsSinceLastPromotion', 'YearsWithCurrManager',\n",
      "       'BusinessTravel_Travel_Frequently', 'BusinessTravel_Travel_Rarely',\n",
      "       'Department_Research & Development', 'Department_Sales',\n",
      "       'EducationField_Life Sciences', 'EducationField_Marketing',\n",
      "       'EducationField_Medical', 'EducationField_Other',\n",
      "       'EducationField_Technical Degree', 'Gender_Male',\n",
      "       'JobRole_Human Resources', 'JobRole_Laboratory Technician',\n",
      "       'JobRole_Manager', 'JobRole_Manufacturing Director',\n",
      "       'JobRole_Research Director', 'JobRole_Research Scientist',\n",
      "       'JobRole_Sales Executive', 'JobRole_Sales Representative',\n",
      "       'MaritalStatus_Married', 'MaritalStatus_Single', 'OverTime_Yes'],\n",
      "      dtype='object')\n",
      "Test Precision: 0.92\n",
      "Test Recall: 0.79\n",
      "Test F1 Score: 0.85\n",
      "              precision    recall  f1-score   support\n",
      "\n",
      "           0       0.97      0.99      0.98       192\n",
      "           1       0.92      0.79      0.85        29\n",
      "\n",
      "    accuracy                           0.96       221\n",
      "   macro avg       0.94      0.89      0.92       221\n",
      "weighted avg       0.96      0.96      0.96       221\n",
      "\n"
     ]
    },
    {
     "data": {
      "image/png": "[encoded data removed]",
      "text/plain": [
       "<Figure size 640x480 with 2 Axes>"
      ]
     },
     "metadata": {},
     "output_type": "display_data"
    }
   ],
   "source": [
    "from xgboost import XGBClassifier\n",
    "\n",
    "\n",
    "# Combine train and cv data for training\n",
    "train_df = pd.concat([train_df, cv_data], axis=0)\n",
    "\n",
    "# Specify the target and features\n",
    "target = 'Attrition'  \n",
    "features = train_df.columns.drop(target)\n",
    "\n",
    "# Split the data into features and target\n",
    "X = train_df[features]\n",
    "y = train_df[target]\n",
    "y = np.where(y == 'Yes', 1, 0)\n",
    "\n",
    "# Split the data into training and validation sets\n",
    "X_train, X_val, y_train, y_val = train_test_split(X, y, test_size=0.2, random_state=42)\n",
    "\n",
    "# Define the XGBoost model\n",
    "xgb_model = XGBClassifier(use_label_encoder=False, eval_metric='logloss')\n",
    "\n",
    "# Define the hyperparameters grid\n",
    "param_grid = {\n",
    "    'n_estimators': [50, 100, 200],\n",
    "    'learning_rate': [0.001, 0.01, 0.1, 0.2],\n",
    "    'max_depth': [15, 30, 45],\n",
    "    'subsample': [0.5, 0.8, 1.0],\n",
    "    'colsample_bytree': [0.5, 0.8, 1.0]\n",
    "}\n",
    "\n",
    "# Perform hyperparameter tuning using GridSearchCV\n",
    "grid_search = GridSearchCV(estimator=xgb_model, param_grid=param_grid, cv=5, scoring='f1', n_jobs=-1, verbose=2)\n",
    "grid_search.fit(X_train, y_train)\n",
    "\n",
    "# Get the best hyperparameters\n",
    "best_params = grid_search.best_params_\n",
    "print(f'Best Hyperparameters: {best_params}')\n",
    "\n",
    "# Train the XGBoost model with the best hyperparameters\n",
    "best_xgb_model = XGBClassifier(**best_params, use_label_encoder=False, eval_metric='logloss')\n",
    "best_xgb_model.fit(X_train, y_train)\n",
    "\n",
    "# Predict on the validation set\n",
    "y_val_pred = best_xgb_model.predict(X_val)\n",
    "\n",
    "# Evaluate the model on the validation set\n",
    "precision = precision_score(y_val, y_val_pred)\n",
    "recall = recall_score(y_val, y_val_pred)\n",
    "f1 = f1_score(y_val, y_val_pred)\n",
    "\n",
    "print(f'Validation Precision: {precision:.2f}')\n",
    "print(f'Validation Recall: {recall:.2f}')\n",
    "print(f'Validation F1 Score: {f1:.2f}')\n",
    "\n",
    "# Detailed classification report\n",
    "print(classification_report(y_val, y_val_pred))\n",
    "\n",
    "# Confusion matrix\n",
    "conf_matrix = confusion_matrix(y_val, y_val_pred)\n",
    "sns.heatmap(conf_matrix, annot=True, fmt='d', cmap='Blues')\n",
    "plt.xlabel('Predicted')\n",
    "plt.ylabel('Actual')\n",
    "plt.title('Validation Confusion Matrix')\n",
    "plt.show()\n",
    "\n",
    "# Check for generalization and bias\n",
    "train_score = best_xgb_model.score(X_train, y_train)\n",
    "val_score = best_xgb_model.score(X_val, y_val)\n",
    "\n",
    "print(f'Training Score: {train_score:.2f}')\n",
    "print(f'Validation Score: {val_score:.2f}')\n",
    "\n",
    "if abs(train_score - val_score) < 0.05:\n",
    "    print(\"The model generalizes well.\")\n",
    "else:\n",
    "    print(\"The model may be overfitting or underfitting.\")\n",
    "\n",
    "print(test_df.columns)\n",
    "# Predict on the test set\n",
    "X_test = test_df[features]\n",
    "y_test = test_df[target]\n",
    "y_test = np.where(y_test == 'Yes', 1, 0)\n",
    "y_test_pred = best_xgb_model.predict(X_test)\n",
    "\n",
    "# Evaluate the model on the test set\n",
    "precision_test = precision_score(y_test, y_test_pred)\n",
    "recall_test = recall_score(y_test, y_test_pred)\n",
    "f1_test = f1_score(y_test, y_test_pred)\n",
    "\n",
    "print(f'Test Precision: {precision_test:.2f}')\n",
    "print(f'Test Recall: {recall_test:.2f}')\n",
    "print(f'Test F1 Score: {f1_test:.2f}')\n",
    "\n",
    "# Detailed classification report\n",
    "print(classification_report(y_test, y_test_pred))\n",
    "\n",
    "# Confusion matrix\n",
    "conf_matrix_test = confusion_matrix(y_test, y_test_pred)\n",
    "sns.heatmap(conf_matrix_test, annot=True, fmt='d', cmap='Blues')\n",
    "plt.xlabel('Predicted')\n",
    "plt.ylabel('Actual')\n",
    "plt.title('Test Confusion Matrix')\n",
    "plt.show()"
   ]
  }
 ],
 "metadata": {
  "kernelspec": {
   "display_name": "venv",
   "language": "python",
   "name": "python3"
  },
  "language_info": {
   "codemirror_mode": {
    "name": "ipython",
    "version": 3
   },
   "file_extension": ".py",
   "mimetype": "text/x-python",
   "name": "python",
   "nbconvert_exporter": "python",
   "pygments_lexer": "ipython3",
   "version": "3.12.1"
  }
 },
 "nbformat": 4,
 "nbformat_minor": 2
}
